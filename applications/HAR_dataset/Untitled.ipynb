{
 "cells": [
  {
   "cell_type": "code",
   "execution_count": 1,
   "id": "cdb66889",
   "metadata": {},
   "outputs": [
    {
     "name": "stderr",
     "output_type": "stream",
     "text": [
      "2022-10-06 12:23:03.121934: I tensorflow/core/platform/cpu_feature_guard.cc:193] This TensorFlow binary is optimized with oneAPI Deep Neural Network Library (oneDNN) to use the following CPU instructions in performance-critical operations:  AVX2 FMA\n",
      "To enable them in other operations, rebuild TensorFlow with the appropriate compiler flags.\n",
      "2022-10-06 12:23:03.224235: E tensorflow/stream_executor/cuda/cuda_blas.cc:2981] Unable to register cuBLAS factory: Attempting to register factory for plugin cuBLAS when one has already been registered\n",
      "2022-10-06 12:23:03.635393: W tensorflow/stream_executor/platform/default/dso_loader.cc:64] Could not load dynamic library 'libnvinfer.so.7'; dlerror: libnvinfer.so.7: cannot open shared object file: No such file or directory; LD_LIBRARY_PATH: :/usr/local/cuda/lib64:/usr/local/cuda/extras/CUPTI/lib64\n",
      "2022-10-06 12:23:03.635446: W tensorflow/stream_executor/platform/default/dso_loader.cc:64] Could not load dynamic library 'libnvinfer_plugin.so.7'; dlerror: libnvinfer_plugin.so.7: cannot open shared object file: No such file or directory; LD_LIBRARY_PATH: :/usr/local/cuda/lib64:/usr/local/cuda/extras/CUPTI/lib64\n",
      "2022-10-06 12:23:03.635452: W tensorflow/compiler/tf2tensorrt/utils/py_utils.cc:38] TF-TRT Warning: Cannot dlopen some TensorRT libraries. If you would like to use Nvidia GPU with TensorRT, please make sure the missing libraries mentioned above are installed properly.\n"
     ]
    }
   ],
   "source": [
    "import numpy as np\n",
    "import pandas as pd\n",
    "import tensorflow as tf\n",
    "import tensorflow_probability as tfp\n",
    "import matplotlib.pyplot as plt\n",
    "from sklearn import preprocessing"
   ]
  },
  {
   "cell_type": "code",
   "execution_count": 12,
   "id": "15362f01",
   "metadata": {},
   "outputs": [],
   "source": [
    "data = pd.read_csv('train.csv')\n",
    "activity_to_label = {\n",
    "    'WALKING_HORIZONTALLY':0,\n",
    "    'WALKING_UPSTAIRS':1,\n",
    "    'WALKING_DOWNSTAIRS':2,\n",
    "    'SITTING':3,\n",
    "    'STANDING':4,\n",
    "    'LAYING':5\n",
    "}\n",
    "x_train = np.array((np.array(data)[:,:-3]+1)/2,dtype = np.float32).reshape(-1,70,8)\n",
    "y_train = np.array(data)[:,-1]\n",
    "label_encoder = preprocessing.LabelEncoder()\n",
    "onehot_encoder = preprocessing.OneHotEncoder()\n",
    "y_train = np.array(label_encoder.fit_transform(y_train))\n",
    "y_train = tf.one_hot(y_train,depth = 6)"
   ]
  },
  {
   "cell_type": "code",
   "execution_count": 13,
   "id": "3d721456",
   "metadata": {},
   "outputs": [],
   "source": [
    "columns = data.columns"
   ]
  },
  {
   "cell_type": "code",
   "execution_count": 14,
   "id": "73d58ea7",
   "metadata": {},
   "outputs": [
    {
     "data": {
      "text/plain": [
       "<tf.Tensor: shape=(10, 6), dtype=float32, numpy=\n",
       "array([[0., 0., 1., 0., 0., 0.],\n",
       "       [0., 0., 1., 0., 0., 0.],\n",
       "       [0., 0., 1., 0., 0., 0.],\n",
       "       [0., 0., 1., 0., 0., 0.],\n",
       "       [0., 0., 1., 0., 0., 0.],\n",
       "       [0., 0., 1., 0., 0., 0.],\n",
       "       [0., 0., 1., 0., 0., 0.],\n",
       "       [0., 0., 1., 0., 0., 0.],\n",
       "       [0., 0., 1., 0., 0., 0.],\n",
       "       [0., 0., 1., 0., 0., 0.]], dtype=float32)>"
      ]
     },
     "execution_count": 14,
     "metadata": {},
     "output_type": "execute_result"
    }
   ],
   "source": [
    "y_train[:10]"
   ]
  },
  {
   "cell_type": "code",
   "execution_count": 15,
   "id": "cf518bf9",
   "metadata": {},
   "outputs": [
    {
     "data": {
      "text/plain": [
       "(7352, 70, 8)"
      ]
     },
     "execution_count": 15,
     "metadata": {},
     "output_type": "execute_result"
    }
   ],
   "source": [
    "x_train.shape"
   ]
  },
  {
   "cell_type": "code",
   "execution_count": 16,
   "id": "78bb3372",
   "metadata": {},
   "outputs": [
    {
     "data": {
      "text/plain": [
       "array([[6.44292235e-01, 4.89852905e-01, 4.33547437e-01, 2.36069993e-03,\n",
       "        8.44469480e-03, 4.32367735e-02, 2.44395994e-03, 8.40771478e-03],\n",
       "       [3.82364914e-02, 3.26381102e-02, 2.16310963e-01, 1.27793729e-01,\n",
       "        9.26473677e-01, 8.42922270e-01, 9.07131374e-01, 1.72386058e-02],\n",
       "       [2.76749997e-05, 6.84850020e-05, 2.69390992e-03, 2.88459496e-03,\n",
       "        6.19303994e-03, 2.83900052e-02, 2.96126455e-01, 1.60331249e-01],\n",
       "       [1.98939070e-01, 9.64646757e-01, 7.34944269e-02, 6.79954886e-01,\n",
       "        4.70736802e-01, 6.28445745e-01, 3.87576193e-01, 6.32052839e-01],\n",
       "       [4.52377170e-01, 6.39425695e-01, 2.67457724e-01, 7.45967984e-01,\n",
       "        4.04558212e-01, 6.88156962e-01, 7.17564583e-01, 8.30395162e-01],\n",
       "       [9.81698096e-01, 4.29580152e-01, 5.57687461e-01, 7.37515511e-03,\n",
       "        9.14578512e-03, 6.11875132e-02, 7.49931484e-03, 7.79188983e-03],\n",
       "       [5.26613258e-02, 9.46027279e-01, 4.19367254e-01, 5.62329888e-01,\n",
       "        9.88718152e-01, 4.38393295e-01, 5.28241396e-01, 3.12287033e-01],\n",
       "       [9.49734330e-01, 1.45473946e-02, 1.22448150e-02, 7.83730485e-03,\n",
       "        5.57542499e-03, 4.11286801e-02, 0.00000000e+00, 0.00000000e+00],\n",
       "       [5.56903064e-01, 2.04787493e-01, 7.95573175e-01, 2.04113275e-01,\n",
       "        7.96234667e-01, 1.27275616e-01, 8.60430837e-01, 1.43813804e-01],\n",
       "       [8.55650008e-01, 2.44420511e-03, 9.97837484e-01, 2.16620509e-03,\n",
       "        9.95826364e-01, 7.85110831e-01, 7.19513655e-01, 9.93456542e-01],\n",
       "       [5.38998187e-01, 5.02500415e-01, 4.66084599e-01, 3.24047008e-03,\n",
       "        5.82000520e-03, 3.21251503e-03, 2.75618490e-03, 6.89668022e-03],\n",
       "       [3.59082501e-03, 7.40994979e-03, 4.00288496e-03, 3.44056496e-03,\n",
       "        9.94917333e-01, 9.95978415e-01, 9.95259583e-01, 3.23899509e-03],\n",
       "       [3.25649999e-05, 8.97749997e-05, 6.07699985e-05, 2.81798001e-03,\n",
       "        6.98756520e-03, 5.38319489e-03, 9.00253728e-02, 1.03476778e-01],\n",
       "       [5.55735268e-02, 1.00000000e+00, 3.89626473e-01, 8.18415403e-01,\n",
       "        6.93821788e-01, 6.20700717e-01, 4.73873585e-01, 6.32088602e-01],\n",
       "       [6.86719716e-01, 6.70888782e-01, 2.15104401e-01, 6.32699430e-01,\n",
       "        2.61062562e-01, 3.07349741e-01, 5.16821980e-01, 4.36744601e-01],\n",
       "       [4.96949583e-01, 4.84317601e-01, 5.53862691e-01, 7.34486477e-03,\n",
       "        1.16882799e-02, 3.89736006e-03, 7.70686986e-03, 1.18236896e-02],\n",
       "       [3.81917995e-03, 6.64781332e-02, 3.31069902e-02, 1.26216903e-01,\n",
       "        9.23653960e-01, 9.57447648e-01, 9.15420294e-01, 1.64078604e-02],\n",
       "       [2.10844999e-04, 3.22840002e-04, 1.18304997e-04, 8.28095991e-03,\n",
       "        1.06929950e-02, 3.51721002e-03, 5.41315854e-01, 6.01133823e-01],\n",
       "       [4.15621668e-01, 5.48161626e-01, 3.62507433e-01, 7.49322116e-01,\n",
       "        3.89841586e-01, 1.00000000e+00, 1.35143055e-02, 6.58327281e-01],\n",
       "       [6.87863231e-01, 8.61699581e-01, 1.14443995e-01, 8.45106602e-01,\n",
       "        3.34084481e-01, 8.54791880e-01, 5.67436695e-01, 6.50549769e-01],\n",
       "       [4.50416297e-01, 4.72241312e-01, 4.69007105e-01, 3.94466519e-03,\n",
       "        3.74036492e-03, 3.97235993e-03, 3.91762517e-03, 2.52921996e-03],\n",
       "       [3.69047490e-03, 4.92207520e-03, 6.62861485e-03, 3.97922518e-03,\n",
       "        9.97214377e-01, 9.95877922e-01, 9.94675994e-01, 2.77332496e-03],\n",
       "       [3.12250013e-05, 2.32500006e-05, 3.85300009e-05, 3.85012990e-03,\n",
       "        1.53053994e-03, 3.87851009e-03, 2.05074519e-01, 1.55770481e-01],\n",
       "       [2.13946566e-01, 6.46188200e-01, 3.19000989e-01, 7.02771366e-01,\n",
       "        4.80496526e-01, 9.94641900e-01, 2.92719752e-01, 6.95801258e-01],\n",
       "       [6.41125441e-01, 9.63634908e-01, 2.13814989e-01, 8.45809579e-01,\n",
       "        7.34144926e-01, 4.34461504e-01, 4.56420153e-01, 6.68123722e-01],\n",
       "       [2.02830601e-02, 2.47242507e-02, 2.10035257e-02, 2.68473793e-02,\n",
       "        3.72214010e-03, 2.02830601e-02, 7.53575005e-04, 2.11813003e-02],\n",
       "       [3.83709192e-01, 4.13410634e-01, 4.88551676e-01, 5.47415793e-01,\n",
       "        5.95908582e-01, 2.02830601e-02, 2.47242507e-02, 2.10035257e-02],\n",
       "       [2.68473793e-02, 3.72214010e-03, 2.02830601e-02, 7.53575005e-04,\n",
       "        2.11813003e-02, 3.83709192e-01, 4.13410634e-01, 4.88551676e-01],\n",
       "       [5.47415793e-01, 5.95908582e-01, 3.34706996e-03, 2.83179502e-03,\n",
       "        2.74981488e-03, 3.60800489e-03, 4.39576479e-03, 3.34706996e-03],\n",
       "       [5.40600013e-05, 3.53315007e-03, 6.82926178e-02, 6.41542614e-01,\n",
       "        3.81345659e-01, 4.47283894e-01, 4.80893850e-01, 1.55204600e-02],\n",
       "       [1.78324096e-02, 2.13776156e-02, 1.24700703e-02, 4.22317022e-03,\n",
       "        1.55204600e-02, 3.56770004e-04, 2.51170900e-02, 5.36289513e-01],\n",
       "       [7.86255717e-01, 1.30698904e-01, 6.06288850e-01, 7.16702461e-01,\n",
       "        2.87608989e-03, 4.31619491e-03, 3.42850992e-03, 5.53218508e-03],\n",
       "       [3.25698499e-03, 2.87608989e-03, 2.55100003e-05, 2.72641005e-03,\n",
       "        1.90116182e-01, 6.46420240e-01, 4.11555409e-01, 4.27110404e-01],\n",
       "       [4.37963843e-01, 2.60840496e-03, 8.50795023e-03, 3.03656757e-02,\n",
       "        2.28912500e-03, 8.43351521e-03, 4.69175093e-02, 1.55567995e-03],\n",
       "       [7.74036488e-03, 3.39590013e-02, 3.12183006e-03, 8.41857493e-03,\n",
       "        5.74728884e-02, 3.01907491e-03, 3.27694509e-03, 3.82861383e-02],\n",
       "       [1.26336450e-02, 1.58099992e-05, 1.55444999e-04, 2.55425996e-03,\n",
       "        2.03698990e-03, 5.14555490e-03, 6.00442523e-03, 2.68215407e-02],\n",
       "       [4.76261191e-02, 2.04348758e-01, 0.00000000e+00, 0.00000000e+00,\n",
       "        0.00000000e+00, 6.26241446e-01, 5.65917850e-01, 4.73974884e-01],\n",
       "       [5.71025252e-01, 4.24658746e-01, 3.89726520e-01, 2.20630735e-01,\n",
       "        6.23384356e-01, 4.96292233e-01, 1.86050002e-05, 6.75000001e-06],\n",
       "       [1.04649998e-05, 1.87799997e-05, 3.38899990e-05, 1.37440002e-04,\n",
       "        1.64804995e-04, 7.09000005e-06, 1.56650003e-05, 1.15700004e-05],\n",
       "       [6.51700029e-05, 1.11934998e-04, 1.44249998e-05, 4.03749982e-05,\n",
       "        1.71599997e-04, 6.97700016e-05, 6.65249972e-05, 6.84949991e-05],\n",
       "       [1.31085006e-04, 1.33900001e-04, 2.53695005e-04, 9.31800023e-05,\n",
       "        1.59090006e-04, 8.03000003e-05, 1.30885004e-04, 1.94014996e-04],\n",
       "       [1.56395006e-04, 8.06850003e-05, 3.20382998e-03, 2.62079993e-04,\n",
       "        1.68979997e-04, 1.78849994e-04, 3.53295007e-04, 1.05388998e-03],\n",
       "       [2.03375495e-03, 2.42679007e-03, 2.63005006e-03, 1.55870002e-04,\n",
       "        5.37719985e-04, 2.16433010e-03, 2.56134500e-03, 2.72804988e-04],\n",
       "       [3.83377494e-03, 6.41504489e-03, 5.15195495e-03, 2.08965992e-03,\n",
       "        4.53184498e-03, 1.47416501e-03, 3.09726503e-03, 4.74065496e-03],\n",
       "       [1.50360505e-03, 1.63155503e-03, 4.01241984e-03, 3.37916496e-03,\n",
       "        8.25465017e-04, 4.44578985e-03, 2.00573150e-02, 4.74250503e-03],\n",
       "       [3.26250010e-05, 8.97599966e-05, 5.77550018e-05, 3.48687009e-03,\n",
       "        4.31330502e-03, 1.88018999e-03, 0.00000000e+00, 0.00000000e+00],\n",
       "       [0.00000000e+00, 1.00000000e+00, 3.79999995e-01, 0.00000000e+00,\n",
       "        9.35192227e-01, 6.05348527e-01, 6.31853938e-01, 1.48157120e-01],\n",
       "       [4.81287464e-02, 2.08713189e-01, 3.18449736e-02, 2.46327624e-01,\n",
       "        9.72320437e-02, 6.75499996e-06, 1.02000004e-05, 1.26100003e-05],\n",
       "       [2.24350006e-05, 4.06949985e-05, 1.79944996e-04, 2.58349988e-04,\n",
       "        1.95649991e-05, 8.86500038e-06, 1.46399998e-05, 9.45099964e-05],\n",
       "       [2.57640000e-04, 9.58500004e-06, 7.40550022e-05, 3.36949997e-05,\n",
       "        5.00349997e-05, 8.77799976e-05, 7.00899982e-05, 1.36244998e-04],\n",
       "       [1.35619994e-04, 2.16465007e-04, 1.17379997e-04, 4.98949994e-05,\n",
       "        9.25499990e-05, 1.45099999e-04, 2.01960007e-04, 7.39199968e-05],\n",
       "       [8.89500006e-05, 3.00059997e-04, 1.17205003e-04, 2.07699995e-05,\n",
       "        2.52450009e-05, 8.07499964e-05, 9.32449984e-05, 6.09730021e-04],\n",
       "       [7.11084984e-04, 1.90160004e-04, 8.20500009e-06, 8.59400025e-05,\n",
       "        6.59660029e-04, 7.79199981e-05, 3.60400009e-05, 6.71279011e-03],\n",
       "       [9.11923498e-03, 5.24260988e-03, 7.48367980e-03, 1.30569646e-02,\n",
       "        2.98253493e-03, 6.73457514e-03, 8.19182023e-03, 3.82399489e-03],\n",
       "       [9.75078531e-03, 1.38645396e-02, 2.52787000e-03, 1.21569005e-03,\n",
       "        7.95745011e-03, 2.83229491e-03, 7.36189494e-03, 6.81449965e-05],\n",
       "       [1.66960002e-04, 3.26900008e-05, 4.82805492e-03, 2.58215494e-03,\n",
       "        2.79421010e-03, 1.43798873e-01, 1.77578822e-01, 8.05035084e-02],\n",
       "       [0.00000000e+00, 0.00000000e+00, 0.00000000e+00, 3.71225566e-01,\n",
       "        5.48973560e-01, 7.73575544e-01, 6.88655615e-01, 5.67045748e-01],\n",
       "       [6.36685967e-01, 4.54369098e-01, 2.57826746e-01, 1.08574651e-01,\n",
       "        6.74900002e-05, 3.41099985e-05, 1.35250002e-05, 1.49099997e-05],\n",
       "       [3.49399998e-05, 2.06900004e-05, 3.55049997e-05, 7.67500023e-06,\n",
       "        6.83699982e-05, 1.59249994e-05, 3.19499995e-05, 2.31850008e-05],\n",
       "       [6.77900025e-05, 1.95100001e-05, 2.73134996e-04, 1.09450002e-05,\n",
       "        4.23499978e-06, 4.94999995e-06, 1.57150007e-05, 9.67149972e-05],\n",
       "       [8.27000011e-04, 5.19389985e-04, 1.90630002e-04, 5.33000002e-06,\n",
       "        3.22999986e-05, 8.06240016e-04, 1.78679998e-04, 1.36700000e-05],\n",
       "       [2.23250008e-05, 1.18500002e-05, 4.70849991e-05, 7.25000018e-06,\n",
       "        3.14149984e-05, 1.24425002e-04, 4.63864999e-04, 3.62300016e-05],\n",
       "       [2.42099995e-05, 4.70749983e-05, 5.36549996e-05, 2.77835003e-04,\n",
       "        2.95049995e-05, 2.06950008e-05, 2.39226706e-02, 2.19330154e-02],\n",
       "       [2.55649295e-02, 1.28397150e-02, 3.71391065e-02, 2.39226706e-02,\n",
       "        8.57400009e-04, 1.33633995e-02, 1.76811770e-01, 1.03448272e-01],\n",
       "       [4.55781937e-01, 2.81764477e-01, 1.01579763e-01, 3.13717499e-03,\n",
       "        3.12252506e-03, 4.01215022e-03, 3.31763993e-03, 5.91228483e-03],\n",
       "       [3.13717499e-03, 4.07799998e-05, 4.31816978e-03, 0.00000000e+00,\n",
       "        3.17460299e-02, 6.73494279e-01, 2.41959929e-01, 9.86199826e-02],\n",
       "       [9.93257482e-03, 1.93452798e-02, 1.31732803e-02, 2.38680858e-02,\n",
       "        5.25093498e-03, 9.93257482e-03, 3.79825011e-04, 3.67223495e-03],\n",
       "       [1.49354294e-01, 0.00000000e+00, 4.35505539e-01, 7.93078244e-01,\n",
       "        6.87302291e-01, 4.00478020e-03, 4.65126988e-03, 5.02958009e-03],\n",
       "       [3.77607998e-03, 4.47613513e-03, 4.00478020e-03, 3.16199985e-05,\n",
       "        4.77103982e-03, 6.43471032e-02, 0.00000000e+00, 4.62838501e-01],\n",
       "       [3.50661814e-01, 1.44847959e-01, 4.43622828e-01, 5.15200198e-01,\n",
       "        2.67619312e-01, 4.90777045e-01, 7.93766230e-02, 5.89970291e-01]],\n",
       "      dtype=float32)"
      ]
     },
     "execution_count": 16,
     "metadata": {},
     "output_type": "execute_result"
    }
   ],
   "source": [
    "x_train[0]"
   ]
  },
  {
   "cell_type": "code",
   "execution_count": 12,
   "id": "9c1ddd84",
   "metadata": {},
   "outputs": [
    {
     "name": "stdout",
     "output_type": "stream",
     "text": [
      "0.0 1.0\n"
     ]
    }
   ],
   "source": [
    "val = x_train[0]\n",
    "print(min(x_train[0].flatten()),max(x_train[0].flatten()))"
   ]
  },
  {
   "cell_type": "code",
   "execution_count": 15,
   "id": "72404af2",
   "metadata": {},
   "outputs": [
    {
     "data": {
      "text/plain": [
       "(70, 8)"
      ]
     },
     "execution_count": 15,
     "metadata": {},
     "output_type": "execute_result"
    }
   ],
   "source": [
    "img = np.array(x_train[0]*255,dtype = np.uint8)\n",
    "img.shape"
   ]
  },
  {
   "cell_type": "code",
   "execution_count": 14,
   "id": "ce5cb42c",
   "metadata": {},
   "outputs": [
    {
     "data": {
      "text/plain": [
       "<matplotlib.image.AxesImage at 0x7f30499f0730>"
      ]
     },
     "execution_count": 14,
     "metadata": {},
     "output_type": "execute_result"
    },
    {
     "data": {
      "image/png": "[encoded data removed]",
      "text/plain": [
       "<Figure size 640x480 with 1 Axes>"
      ]
     },
     "metadata": {},
     "output_type": "display_data"
    }
   ],
   "source": [
    "plt.imshow(img)"
   ]
  },
  {
   "cell_type": "code",
   "execution_count": null,
   "id": "dd42157a",
   "metadata": {},
   "outputs": [],
   "source": []
  }
 ],
 "metadata": {
  "kernelspec": {
   "display_name": "Python 3 (ipykernel)",
   "language": "python",
   "name": "python3"
  },
  "language_info": {
   "codemirror_mode": {
    "name": "ipython",
    "version": 3
   },
   "file_extension": ".py",
   "mimetype": "text/x-python",
   "name": "python",
   "nbconvert_exporter": "python",
   "pygments_lexer": "ipython3",
   "version": "3.10.6"
  }
 },
 "nbformat": 4,
 "nbformat_minor": 5
}
